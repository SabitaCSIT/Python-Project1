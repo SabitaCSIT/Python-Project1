{
 "cells": [
  {
   "cell_type": "code",
   "execution_count": 1,
   "metadata": {},
   "outputs": [
    {
     "name": "stdout",
     "output_type": "stream",
     "text": [
      "Welcome to my first game!!!\n",
      "enter your name: sabita\n",
      "enter your age: 21\n"
     ]
    }
   ],
   "source": [
    "print(\"Welcome to my first game!!!\")\n",
    "name=input(\"enter your name: \")\n",
    "age=int(input(\"enter your age: \"))\n"
   ]
  },
  {
   "cell_type": "code",
   "execution_count": 2,
   "metadata": {},
   "outputs": [
    {
     "name": "stdout",
     "output_type": "stream",
     "text": [
      "you can play the game\n"
     ]
    }
   ],
   "source": [
    "if age>=18:\n",
    "    print(\"you can play the game\")\n",
    "else:\n",
    "    print(\"you cannot play the game due to age limitations\")"
   ]
  },
  {
   "cell_type": "code",
   "execution_count": 18,
   "metadata": {},
   "outputs": [
    {
     "name": "stdout",
     "output_type": "stream",
     "text": [
      "do you want to play the game(yes/no)? yes\n",
      "Let's play the game\n",
      "you are starting with 10 health\n",
      "First choice (up/down)? up\n",
      "Nice, you followed a path and reach a lake...Dou you swim across or go around (across/around)? around\n",
      "You went around and reached the other side of the lake..\n",
      "You notice a house and a river.Which do you go to (house/river)? river\n",
      "You fell in the river and lost...\n"
     ]
    }
   ],
   "source": [
    "ques=input(\"do you want to play the game(yes/no)? \").lower()\n",
    "\n",
    "if ques==\"yes\":\n",
    "    print(\"Let's play the game\")\n",
    "    \n",
    "    health=10\n",
    "    print(f\"you are starting with {health} health\")\n",
    "    \n",
    "    up_or_down=input(\"First choice (up/down)? \")\n",
    "    \n",
    "    if up_or_down==\"up\":\n",
    "        ans=input(\"Nice, you followed a path and reach a lake...Dou you swim across or go around (across/around)? \")\n",
    "        \n",
    "        if ans==\"around\":\n",
    "            print(\"You went around and reached the other side of the lake..\")\n",
    "        elif ans==\"across\":\n",
    "            print(\"You managed to get across, but were bit by a fish and lost 5 health..\")\n",
    "            health-=5\n",
    "            \n",
    "        reply=input(\"You notice a house and a river.Which do you go to (house/river)? \")\n",
    "        if reply==\"house\":\n",
    "            print(\"The dog in the house bite you and again u loose 5 health\")\n",
    "            health-=5\n",
    "                \n",
    "            if health<=0:\n",
    "                print(\"You now have 0 health and you lost the game...\")\n",
    "            else:\n",
    "                print(\"You have survived...\")\n",
    "                    \n",
    "        else:\n",
    "            print(\"You fell in the river and lost...\")\n",
    "\n",
    "    else:\n",
    "        print(\"Oops you fell down and lost....\")\n",
    "    \n",
    "elif ques==\"no\":\n",
    "    print(\"Okay, you arenot interested..\")\n",
    "    \n",
    "else:\n",
    "    print(\"Get lost\")\n"
   ]
  },
  {
   "cell_type": "code",
   "execution_count": null,
   "metadata": {},
   "outputs": [],
   "source": []
  },
  {
   "cell_type": "code",
   "execution_count": null,
   "metadata": {},
   "outputs": [],
   "source": []
  }
 ],
 "metadata": {
  "kernelspec": {
   "display_name": "Python 3",
   "language": "python",
   "name": "python3"
  },
  "language_info": {
   "codemirror_mode": {
    "name": "ipython",
    "version": 3
   },
   "file_extension": ".py",
   "mimetype": "text/x-python",
   "name": "python",
   "nbconvert_exporter": "python",
   "pygments_lexer": "ipython3",
   "version": "3.7.6"
  }
 },
 "nbformat": 4,
 "nbformat_minor": 4
}
